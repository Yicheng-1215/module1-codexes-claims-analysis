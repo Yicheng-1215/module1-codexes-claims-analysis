{
  "nbformat": 4,
  "nbformat_minor": 0,
  "metadata": {
    "colab": {
      "provenance": [],
      "authorship_tag": "ABX9TyNeKNJPyIPGdhJA6WJ1+9wS",
      "include_colab_link": true
    },
    "kernelspec": {
      "name": "python3",
      "display_name": "Python 3"
    },
    "language_info": {
      "name": "python"
    }
  },
  "cells": [
    {
      "cell_type": "markdown",
      "metadata": {
        "id": "view-in-github",
        "colab_type": "text"
      },
      "source": [
        "<a href=\"https://colab.research.google.com/github/Yicheng-1215/module1-codexes-claims-analysis/blob/main/analysis_py.ipynb\" target=\"_parent\"><img src=\"https://colab.research.google.com/assets/colab-badge.svg\" alt=\"Open In Colab\"/></a>"
      ]
    },
    {
      "cell_type": "code",
      "source": [
        "#load file\n",
        "import pandas as pd\n",
        "\n",
        "url = 'https://raw.githubusercontent.com/Yicheng-1215/module1-codexes-claims-analysis/main/Provider-Level_Measure_Rates_for_AHRQ_Patient_Safety_Indicator_11__PSI-11___-_2016.csv'\n",
        "\n",
        "df = pd.read_csv(url)\n",
        "\n",
        "print(df.head())\n",
        "\n",
        "#Explore Dataset\n",
        "print(df.columns)\n",
        "codex_columns = [col for col in df.columns if 'ICD' in col or 'DRG' in col or 'HCPCS' in col]\n",
        "print(codex_columns)\n",
        "\n",
        "#Analyze Data\n",
        "for col in codex_columns:\n",
        "    frequency = df[col].value_counts()\n",
        "    print(f\"Frequencies in {col}:\")\n",
        "    print(frequency.head())\n",
        "\n",
        "#Check Missing Values\n",
        "for col in codex_columns:\n",
        "    missing_values = df[col].isnull().sum()\n",
        "    print(f\"Missing values in {col}: {missing_values}\")\n",
        "\n",
        "#Find most common\n",
        "for col in codex_columns:\n",
        "    most_common = df[col].value_counts().idxmax()\n",
        "    print(f\"Most common code in {col}: {most_common}\")\n",
        "\n"
      ],
      "metadata": {
        "colab": {
          "base_uri": "https://localhost:8080/"
        },
        "id": "KTeoEC4iojp3",
        "outputId": "bf4fe63d-dfef-4417-9e42-0fa64f6b66ec"
      },
      "execution_count": 5,
      "outputs": [
        {
          "output_type": "stream",
          "name": "stdout",
          "text": [
            "   HOSP_ID  ADM_DISC   RATE  INTERVAL_LOWER_LIMIT  INTERVAL_HIGHER_LIMIT  \\\n",
            "0    10001    1763.0   9.86                  5.23                  14.48   \n",
            "1    10005     218.0  17.59                  8.00                  27.18   \n",
            "2    10006       NaN    NaN                   NaN                    NaN   \n",
            "3    10007      57.0  11.37                  0.00                  23.43   \n",
            "4    10008       2.0    NaN                   NaN                    NaN   \n",
            "\n",
            "  START_QUARTER  START_DATE END_QUARTER    END_DATE  \n",
            "0        3Q2013  07/01/2013      2Q2015  06/30/2015  \n",
            "1        3Q2013  07/01/2013      2Q2015  06/30/2015  \n",
            "2        3Q2013  07/01/2013      2Q2015  06/30/2015  \n",
            "3        3Q2013  07/01/2013      2Q2015  06/30/2015  \n",
            "4        3Q2013  07/01/2013      2Q2015  06/30/2015  \n",
            "Index(['HOSP_ID', 'ADM_DISC', 'RATE', 'INTERVAL_LOWER_LIMIT',\n",
            "       'INTERVAL_HIGHER_LIMIT', 'START_QUARTER', 'START_DATE', 'END_QUARTER',\n",
            "       'END_DATE'],\n",
            "      dtype='object')\n",
            "[]\n"
          ]
        }
      ]
    },
    {
      "cell_type": "code",
      "execution_count": null,
      "metadata": {
        "id": "Qb7Q48EEoQc8"
      },
      "outputs": [],
      "source": []
    }
  ]
}